{
  "nbformat": 4,
  "nbformat_minor": 0,
  "metadata": {
    "colab": {
      "name": "Assignment_7.ipynb",
      "provenance": [],
      "collapsed_sections": [],
      "include_colab_link": true
    },
    "kernelspec": {
      "display_name": "Python 3",
      "language": "python",
      "name": "python3"
    },
    "language_info": {
      "codemirror_mode": {
        "name": "ipython",
        "version": 3
      },
      "file_extension": ".py",
      "mimetype": "text/x-python",
      "name": "python",
      "nbconvert_exporter": "python",
      "pygments_lexer": "ipython3",
      "version": "3.6.4"
    }
  },
  "cells": [
    {
      "cell_type": "markdown",
      "metadata": {
        "id": "view-in-github",
        "colab_type": "text"
      },
      "source": [
        "<a href=\"https://colab.research.google.com/github/msayeshasiddikatonny/CSE330_python_Labs/blob/main/Assignment_7.ipynb\" target=\"_parent\"><img src=\"https://colab.research.google.com/assets/colab-badge.svg\" alt=\"Open In Colab\"/></a>"
      ]
    },
    {
      "cell_type": "markdown",
      "metadata": {
        "id": "7T2WarTFb9ZQ"
      },
      "source": [
        "# CSE 330 Numerical Analysis Lab \n",
        "\n",
        "### Lab 7: Root Finding using Newton's Mehtod\n",
        "\n",
        "### Instructions\n",
        "---\n",
        "\n",
        "This week we will have two assignments.\n",
        "1. Finding root of a polynomial using Newton's method. \n",
        "2. Finding root of system of implicit functions using Newton's method.\n",
        "\n",
        "### Root Finding (Newton's Method):\n",
        "Newton's method for root finding is basically a special case of *Fixed-point* method which converges superlinearly. In this method we define $g(x)$ as this,\n",
        "\n",
        "$$g(x) = x - \\frac{f(x)}{f^{\\prime}(x)}$$\n",
        "\n",
        "so, if after $k$-th iteration we find $x_k$, then $x_{k+1}$ is, \n",
        "\n",
        "$$x_{k+1} = x_k - \\frac{f(x_k)}{f^{\\prime}(x_k)} $$\n",
        "\n",
        "Let's write a code for this."
      ]
    },
    {
      "cell_type": "code",
      "metadata": {
        "colab": {
          "base_uri": "https://localhost:8080/",
          "height": 483
        },
        "id": "Y4Y6Lz-adCT6",
        "outputId": "a2efce74-0768-416c-f774-631cb2c9dff0"
      },
      "source": [
        "import numpy as np\n",
        "import pandas as pd\n",
        "import matplotlib.pyplot as plt\n",
        "from numpy.polynomial import Polynomial\n",
        "\n",
        "# Define a polynomial named 'f'\n",
        "f = Polynomial([2.0, 1.0, -6.0, -2.0, 2.5, 1.0])\n",
        "\n",
        "# Define the first derivative of polynomial 'f' named 'f_prime'\n",
        "f_prime = f.deriv(1)\n",
        "\n",
        "# Draw the X-axis\n",
        "plt.axhline(y=0, color='k')\n",
        "\n",
        "# Generate 100 values of x.\n",
        "x = np.linspace(-2.5, 1.6, 100)\n",
        "\n",
        "# Calculate y-values of corresponding x-values of f(x).\n",
        "y = f(x)\n",
        "\n",
        "# Plot the graph of f(x) using x-values and y-values\n",
        "plt.plot(x, y)\n",
        "\n",
        "# Plot the roots of the graph\n",
        "plt.plot(f.roots(), f(f.roots()), 'ro')\n",
        "\n",
        "# Print the roots of the function f(x)\n",
        "print(f.roots())\n",
        "\n",
        "# Calcuate y-values for corresponding x-values of f'(x).\n",
        "y = f_prime(x)\n",
        "\n",
        "# Plot the graph of f'(x)\n",
        "plt.plot(x, y)\n",
        "\n",
        "# Plot the roots of f'(x). Notice that, where f'(x) is zero the slop of f(x) is zero.\n",
        "plt.plot(f_prime.roots(), f_prime(f_prime.roots()), 'bo')\n",
        "\n",
        "# Print the roots of f'(x).\n",
        "print(f_prime.roots())\n",
        "\n",
        "# Start with an initial value\n",
        "# Uncomment this line and set a value for xk\n",
        "# try experimenting with different values\n",
        "xk = 2.5\n",
        "\n",
        "\n",
        "# Create a list for storing values of x's after each iteration\n",
        "list_x = [xk, ]\n",
        "\n",
        "# Create a list for storing values of f(x)'s after each iteration\n",
        "list_f = [f(xk),]\n",
        "\n",
        "while True:\n",
        "    #+--------------------+\n",
        "    #| Start of your code |\n",
        "    #+--------------------+\n",
        "\n",
        "    # Calculate newer values of xk \n",
        "    p = xk\n",
        "    xk = abs(xk-(f(xk)/f_prime(xk)))\n",
        "    list_x.append(xk)\n",
        "    list_f.append(f(xk))\n",
        "    if (abs((xk-p)/xk))<(10**(-6)):\n",
        "        break\n",
        "\n",
        "    # append xk into list_x\n",
        "    \n",
        "\n",
        "    # append f(xk) into list_f\n",
        "    \n",
        "\n",
        "    # Write the breaking condition\n",
        "\n",
        "\n",
        "\n",
        "    #+------------------+\n",
        "    #| End of your code |\n",
        "    #+------------------+\n",
        "\n",
        "df = pd.DataFrame({\"x\": list_x, \"f(x)\": list_f})\n",
        "print(df)"
      ],
      "execution_count": 1,
      "outputs": [
        {
          "output_type": "stream",
          "text": [
            "[-2.         -1.92076271 -0.5819979   0.67242436  1.33033625]\n",
            "[-1.9614858  -1.18624916  0.08054271  1.06719224]\n",
            "          x          f(x)\n",
            "0  2.500000  1.310625e+02\n",
            "1  2.040232  4.074755e+01\n",
            "2  1.709225  1.211889e+01\n",
            "3  1.491138  3.250986e+00\n",
            "4  1.373521  6.579820e-01\n",
            "5  1.334601  5.876046e-02\n",
            "6  1.330384  6.467778e-04\n",
            "7  1.330336  8.136582e-08\n",
            "8  1.330336  4.440892e-16\n"
          ],
          "name": "stdout"
        },
        {
          "output_type": "display_data",
          "data": {
            "image/png": "[encoded data removed]",
            "text/plain": [
              "<Figure size 432x288 with 1 Axes>"
            ]
          },
          "metadata": {
            "tags": [],
            "needs_background": "light"
          }
        }
      ]
    },
    {
      "cell_type": "markdown",
      "metadata": {
        "id": "YwRUfVRz4OVI"
      },
      "source": [
        "### Solving System of equations\n",
        "\n",
        "We can use Newton's method to solve system of implicit functions. For example. Let's take assume $y=f_1(x)$ and $y=f_2(x)$ are two functions such that,\n",
        "\n",
        "\\begin{align}\n",
        "xy - y^3 - 1 &= 0\\\\\n",
        "x^2y + y -5 &= 0\n",
        "\\end{align}\n",
        "\n",
        "Let's take a look at their graphs."
      ]
    },
    {
      "cell_type": "code",
      "metadata": {
        "id": "qBlWrvb7XxWJ"
      },
      "source": [
        "import matplotlib.pyplot as plt\n",
        "from numpy import arange\n",
        "from numpy import meshgrid\n",
        "\n",
        "# Define a small value\n",
        "delta = 0.01\n",
        "\n",
        "# Create a set of x-values in the specified range with delta difference\n",
        "# for example in this case the x values will be, -4.00, -3.99, -3.98, ... 4.99, 5.00 etc.\n",
        "xrange = arange(-4, 5, delta)\n",
        "yrange = arange(-3, 6, delta)\n",
        "\n",
        "# Create a meshgrid (what is a meshgrid? it is basically co-ordinate matrix. you don't need to worry about this too much for this assignment)\n",
        "# If you are interested take a look here: https://docs.scipy.org/doc/numpy/reference/generated/numpy.meshgrid.html\n",
        "X, Y = meshgrid(xrange,yrange)\n",
        "\n",
        "# Let's define two functions as F1 and F2\n",
        "F1 = X*Y - Y**3 - 1\n",
        "F2 = X**2*Y + Y - 5\n",
        "\n",
        "# Draw the plots for F1 (red) and F2 (blue).\n",
        "plt.contour(X, Y, (F1), [0], colors=['red'])\n",
        "plt.contour(X, Y, (F2), [0], colors=['blue'])\n",
        "plt.show()"
      ],
      "execution_count": null,
      "outputs": []
    },
    {
      "cell_type": "markdown",
      "metadata": {
        "id": "WCXYG6sOnYRF"
      },
      "source": [
        "Now how do we solve these pair of equations? We will use matrix representations for these equations. Let, $\\boldsymbol{s} = (x, y)^T$ and $\\boldsymbol{f} = \\left[f_1(\\boldsymbol{s}), f_2(\\boldsymbol{s}) \\right] ^T$. Then, we can write,\n",
        "\n",
        "\\begin{align}\n",
        "0 \\approx f_1(\\boldsymbol{s}_{k+1}) \\approx f_1(\\boldsymbol{s}_k) + \\frac{\\partial f_1}{\\partial x} \\biggr\\rvert_{\\boldsymbol{s}_k} (x_{k+1} - x_k) + \\frac{\\partial f_1}{\\partial y} \\biggr\\rvert_{\\boldsymbol{s}_k} (y_{k+1} - y_k)\\\\\n",
        "0 \\approx f_2(\\boldsymbol{s}_{k+1}) \\approx f_2(\\boldsymbol{s}_k) + \\frac{\\partial f_2}{\\partial x} \\biggr\\rvert_{\\boldsymbol{s}_k} (x_{k+1} - x_k) + \\frac{\\partial f_2}{\\partial y} \\biggr\\rvert_{\\boldsymbol{s}_k} (y_{k+1} - y_k)\n",
        "\\end{align}\n",
        "\n",
        "We can rewrite this in matrix form, like this,\n",
        "\\begin{align}\n",
        "\\bigg({\\begin{array}{c} 0 \\\\0 \\end{array} }\\bigg) = \\bigg({\\begin{array}{c} f_1(\\boldsymbol{s}_k) \\\\f_2(\\boldsymbol{s}_k) \\end{array} }\\bigg) + \\Bigg({\\begin{array}{cc} \\frac{\\partial f_1}{\\partial x}\\boldsymbol{s}_k & \\frac{\\partial f_1}{\\partial y}\\boldsymbol{s}_k \\\\\\frac{\\partial f_2}{\\partial x}\\boldsymbol{s}_k & \\frac{\\partial f_2}{\\partial y}\\boldsymbol{s}_k \\end{array} }\\Bigg)\\bigg({\\begin{array}{c} x_{k+1} - x_k \\\\y_{k+1} - y_k \\end{array} }\\bigg)\n",
        "\\end{align}\n",
        "\n",
        "The matrix part here is called $\\boldsymbol{J}\\text{acobian Matrix}, J(\\boldsymbol{s}_k)$. From there we can derive,\n",
        "\n",
        "\\begin{equation}\n",
        "\\boldsymbol{s}_{k+1} = \\boldsymbol{s}_k - \\boldsymbol{J}^{-1}(\\boldsymbol{s}_k)\\boldsymbol{f}(\\boldsymbol{s}_k)\n",
        "\\end{equation} \n",
        "\n",
        "*Note:* Please refer to the class note for detailed proof.\n",
        "\n",
        "For this purpose we will need to use `sympy` library. Let's take a look into it.\n",
        "\n",
        "### `sympy` Library\n",
        "Using `sympy` we can express mathematical expressions nicely.  "
      ]
    },
    {
      "cell_type": "code",
      "metadata": {
        "id": "IFGvLjtio_WB",
        "outputId": "815843ba-797e-4e1d-f42e-4977e6d42453"
      },
      "source": [
        "# These lines are included for beautification\n",
        "from google.colab.output._publish import javascript\n",
        "url = \"https://cdnjs.cloudflare.com/ajax/libs/mathjax/2.7.3/latest.js?config=default\"\n",
        "javascript(url=url)\n",
        "# Don't worry about these lines\n",
        "\n",
        "# import sympy\n",
        "import sympy as sp\n",
        "import math\n",
        "\n",
        "# Defing x and y as mathematical symbols\n",
        "vars = sp.symbols('x y')\n",
        "x, y = vars\n",
        "\n",
        "# Create an expression\n",
        "expr1 = sp.sqrt(5 * x**3 + 1/x)\n",
        "print(\"Expression 1:\")\n",
        "display(expr1)\n",
        "print()\n",
        "# We can substitute values like this\n",
        "print(expr1.subs({x: 4.0}))\n",
        "\n",
        "# Create another expression \n",
        "expr2 = x**y - sp.exp(x**2)\n",
        "print(\"\\nExpression 2:\")\n",
        "display(expr2)\n",
        "print()\n",
        "print(expr2.subs({x: 0.1, y:0.2}))\n",
        "\n",
        "# We can also differentiate\n",
        "expr3 = 4*x**3 - 3*x**2 + sp.sqrt(1+x**2)\n",
        "print(\"\\nExpression 3:\")\n",
        "display(expr3)\n",
        "print(\"\\nd/d(x) of expr3:\") \n",
        "display(sp.diff(expr3))\n",
        "print()\n",
        "\n",
        "# Similarly we can also calculate partial derivative\n",
        "expr4 = 4*x**3*y**2 - 3*x**2*y**3 + (sp.sqrt(1+x**2+y**2))\n",
        "print(\"\\nExpression 4:\")\n",
        "display(expr4)\n",
        "print(\"\\nd/d(x) of expr4:\") \n",
        "display(sp.diff(expr4, x))\n",
        "print()\n",
        "print(\"\\nd/d(y) of expr4:\") \n",
        "display(sp.diff(expr4, y))\n",
        "print()"
      ],
      "execution_count": null,
      "outputs": [
        {
          "output_type": "error",
          "ename": "ModuleNotFoundError",
          "evalue": "No module named 'google'",
          "traceback": [
            "\u001b[1;31m---------------------------------------------------------------------------\u001b[0m",
            "\u001b[1;31mModuleNotFoundError\u001b[0m                       Traceback (most recent call last)",
            "\u001b[1;32m<ipython-input-5-236eafdaa1f6>\u001b[0m in \u001b[0;36m<module>\u001b[1;34m()\u001b[0m\n\u001b[0;32m      1\u001b[0m \u001b[1;31m# These lines are included for beautification\u001b[0m\u001b[1;33m\u001b[0m\u001b[1;33m\u001b[0m\u001b[0m\n\u001b[1;32m----> 2\u001b[1;33m \u001b[1;32mfrom\u001b[0m \u001b[0mgoogle\u001b[0m\u001b[1;33m.\u001b[0m\u001b[0mcolab\u001b[0m\u001b[1;33m.\u001b[0m\u001b[0moutput\u001b[0m\u001b[1;33m.\u001b[0m\u001b[0m_publish\u001b[0m \u001b[1;32mimport\u001b[0m \u001b[0mjavascript\u001b[0m\u001b[1;33m\u001b[0m\u001b[0m\n\u001b[0m\u001b[0;32m      3\u001b[0m \u001b[0murl\u001b[0m \u001b[1;33m=\u001b[0m \u001b[1;34m\"https://cdnjs.cloudflare.com/ajax/libs/mathjax/2.7.3/latest.js?config=default\"\u001b[0m\u001b[1;33m\u001b[0m\u001b[0m\n\u001b[0;32m      4\u001b[0m \u001b[0mjavascript\u001b[0m\u001b[1;33m(\u001b[0m\u001b[0murl\u001b[0m\u001b[1;33m=\u001b[0m\u001b[0murl\u001b[0m\u001b[1;33m)\u001b[0m\u001b[1;33m\u001b[0m\u001b[0m\n\u001b[0;32m      5\u001b[0m \u001b[1;31m# Don't worry about these lines\u001b[0m\u001b[1;33m\u001b[0m\u001b[1;33m\u001b[0m\u001b[0m\n",
            "\u001b[1;31mModuleNotFoundError\u001b[0m: No module named 'google'"
          ]
        }
      ]
    },
    {
      "cell_type": "markdown",
      "metadata": {
        "id": "SzYBOy6BARuz"
      },
      "source": [
        "Now let's try this assignment."
      ]
    },
    {
      "cell_type": "code",
      "metadata": {
        "id": "mPtSnO-MYMmE",
        "outputId": "99784d54-48ca-4b0f-c988-44faa180d5cc"
      },
      "source": [
        "import numpy as np\n",
        "import sympy as sp\n",
        "\n",
        "# Define x and y as mathematical symbols\n",
        "vars = sp.symbols('x y')\n",
        "x, y = vars\n",
        "\n",
        "# Define the functions \n",
        "f = ([x*y - y**3 - 1, x**2 * y + y - 5])\n",
        "\n",
        "# Initialise Jacobian matrix\n",
        "J = sp.zeros(len(f),len(vars))\n",
        "\n",
        "# Fill Jacobian matrix with entries\n",
        "for i, fi in enumerate(f):\n",
        "    for j, s in enumerate(vars):\n",
        "        J[i,j] = sp.diff(fi, s)\n",
        "#print(J)\n",
        "# Find the inverse of Jacobian Matrix\n",
        "J_inv = sp.Matrix.inv(J)\n",
        "print(J_inv)\n",
        "\n",
        "# Initialize solution s with starting value x_0 = 2.0 and y_0 = 3.0\n",
        "s = sp.Matrix([\n",
        "    2.0,\n",
        "    3.0\n",
        "])\n",
        "\n",
        "# Make a dictionary using the initial values\n",
        "dictionary = {\n",
        "    x: s[0],\n",
        "    y: s[1]\n",
        "}\n",
        "\n",
        "# calculate f(s_k) using initial values\n",
        "f_sk = sp.Matrix([\n",
        "    f[0].subs(dictionary),\n",
        "    f[1].subs(dictionary)\n",
        "])\n",
        "#print(f_sk)\n",
        "\n",
        "# Start iterating using while loop\n",
        "i = 0\n",
        "while i<10:\n",
        "    # Calculate value of inverse jacobian, j^-1(sk), j_val\n",
        "    j_val = sp.Matrix([])\n",
        "\n",
        "\n",
        "    # Calculate the new value of s using iterative formula\n",
        "    # s = ??\n",
        "\n",
        "\n",
        "    # Update the dictionary using newer values\n",
        "    # dictionary = ??\n",
        "\n",
        "\n",
        "\n",
        "\n",
        "\n",
        "    # Update f(s_k) using newer values of s_k\n",
        "    # f_sk = ??\n",
        "\n",
        "\n",
        "\n",
        "\n",
        "\n",
        "    print(s)\n",
        "    i += 1\n",
        "\n",
        "print()"
      ],
      "execution_count": null,
      "outputs": [
        {
          "output_type": "stream",
          "text": [
            "Matrix([[(x**2 + 1)/(-2*x*y*(x - 3*y**2) + y*(x**2 + 1)), -(x - 3*y**2)/(-2*x*y*(x - 3*y**2) + y*(x**2 + 1))], [-2*x*y/(-2*x*y*(x - 3*y**2) + y*(x**2 + 1)), y/(-2*x*y*(x - 3*y**2) + y*(x**2 + 1))]])\n",
            "Matrix([[2.00000000000000], [3.00000000000000]])\n",
            "Matrix([[2.00000000000000], [3.00000000000000]])\n",
            "Matrix([[2.00000000000000], [3.00000000000000]])\n",
            "Matrix([[2.00000000000000], [3.00000000000000]])\n",
            "Matrix([[2.00000000000000], [3.00000000000000]])\n",
            "Matrix([[2.00000000000000], [3.00000000000000]])\n",
            "Matrix([[2.00000000000000], [3.00000000000000]])\n",
            "Matrix([[2.00000000000000], [3.00000000000000]])\n",
            "Matrix([[2.00000000000000], [3.00000000000000]])\n",
            "Matrix([[2.00000000000000], [3.00000000000000]])\n",
            "\n"
          ],
          "name": "stdout"
        }
      ]
    },
    {
      "cell_type": "code",
      "metadata": {
        "id": "gBmnSGFn-Ht4"
      },
      "source": [
        ""
      ],
      "execution_count": null,
      "outputs": []
    }
  ]
}